{
 "cells": [
  {
   "cell_type": "markdown",
   "id": "19301a81",
   "metadata": {},
   "source": [
    "<style>\n",
    ".icon:hover {\n",
    "  opacity: 0.7;\n",
    "}\n",
    ".icon { \n",
    "    overflow: hidden;\n",
    "    filter: grayscale(100%);\n",
    "}\n",
    "</style>\n",
    "<a href=\"https://www.linkedin.com/in/joel-montavon-704808a/\" target=\"_blank\"><img class=\"icon\" width=\"60\" height=\"60\" src=\"https://content.linkedin.com/content/dam/me/brand/en-us/brand-home/logos/In-Blue-Logo.png.original.png\" style=\"position: absolute; right: 80px; top: 10px;\"></img></a>\n",
    "<a href=\"https://github.com/joelmontavon/pdc-python\" target=\"_blank\"><img class=\"icon\" width=\"80\" height=\"80\" src=\"https://github.githubassets.com/images/modules/logos_page/GitHub-Mark.png\" style=\"position: absolute; right: 0px; top: 0px;\"></img></a>\n",
    "\n",
    "<h1>Calculating the Proportion of Days Covered using Python</h1>\n",
    "\n",
    "The proportion of days covered (PDC) is a method for calculating medication adherence. It involves identifying days covered based upon the date of service and days supply using prescription claims data. The methodology adjusts the start date for overlapping fills of the same medication. This makes sense because patients often come into the pharmacy to pickup their drugs a few days early so they do not run out of supply.\n",
    "\n",
    "PDC is a more conservative estimate when patient switches between medications in the same class or concurrently uses more than one medication in a class. For most drug classes, a PDC ≥ 80% is considered adherent.\n",
    "\n",
    "To make this easier in Python, I created a general-purpose class called a DateIndexedArray. This class allows me to represent a prescription claim as a date of fill and the days supply as an array. The elements of the array can be accessed either via the index or a date. And, I've created some of functions that help with some common tasks.\n",
    "\n",
    "To calculate the PDC, we need to identify the days covered by each medication. For claims involving the same drug with overlapping days supply, we assume that the patient will finish his/her current fill before starting the refill. This means that we need to adjust for overlapping days supply which can be accomplished with the right shift operator (i.e., >>). \n",
    "\n",
    "For overlapping fills of different drug, we assume that the patient will start his/her new medication right away. So, we just need to sum for each index in the array which can be accomplished with the addition operator (i.e., +)."
   ]
  },
  {
   "cell_type": "code",
   "execution_count": 1,
   "id": "2321927c",
   "metadata": {},
   "outputs": [],
   "source": [
    "import datetime as dt\n",
    "import numpy as np\n",
    "from functools import reduce\n",
    "\n",
    "class DateIndexedArray():\n",
    "    \n",
    "    def __init__(self, epoch, size=365, val=1, type=float):\n",
    "        self.epoch = epoch\n",
    "        self.array = np.ndarray(size, type)\n",
    "        self.array.fill(val)\n",
    "        \n",
    "    def __getitem__(self, key):\n",
    "        if isinstance(key, dt.datetime):\n",
    "            key = (key - self.epoch).days\n",
    "        return self.array.__getitem__(key)\n",
    "    \n",
    "    def __str__(self):\n",
    "        return self.epoch.strftime(\"%m/%d/%Y\") + ': ' + self.array.__str__()\n",
    "    \n",
    "    def reindex(self, epoch, size):\n",
    "        z = DateIndexedArray(epoch, size, 0)\n",
    "        offset = (self.epoch - epoch).days\n",
    "        z.array[offset:offset + self.array.size] += self.array\n",
    "        return z\n",
    "    \n",
    "    def extend(self, y):\n",
    "        firstDate = min([self.epoch, y.epoch])\n",
    "        lastDate = max([self.epoch + dt.timedelta(days = self.array.size - 1), y.epoch + dt.timedelta(days = y.array.size - 1)])\n",
    "        return self.reindex(firstDate, (lastDate - firstDate).days + 1)\n",
    "    \n",
    "    def trim(self, start, end):\n",
    "        epoch = max([self.epoch, start])\n",
    "        offset = max([(epoch - self.epoch).days, 0])\n",
    "        self.array = self.array[offset:offset + (end - epoch).days + 1]\n",
    "        self.epoch = epoch\n",
    "        return self + DateIndexedArray(self.epoch, (end - epoch).days + 1, 0)\n",
    "    \n",
    "    def __add__(self, y):\n",
    "        z = self.extend(y)\n",
    "        z.array[(y.epoch - z.epoch).days:(y.epoch - z.epoch).days + y.array.size] += y.array\n",
    "        return z\n",
    "    \n",
    "    def __rshift__(self, y):\n",
    "        a = self.extend(y)\n",
    "        b = y.reindex(a.epoch, a.array.size)\n",
    "        zero = [j for j, val in enumerate(a.array) if val == 0 or np.isnan(val)]\n",
    "        nonzero = [i for i, val in enumerate(b.array) if val != 0 and not np.isnan(val)]\n",
    "        \n",
    "        j = 0\n",
    "        for i in nonzero:\n",
    "            while (True):\n",
    "                if j > (len(zero) - 1):\n",
    "                    a.array = np.append(a.array, b[i])\n",
    "                    j += 1\n",
    "                    break\n",
    "                elif zero[j] >= i:\n",
    "                    a.array[zero[j]] = b[i]\n",
    "                    j += 1\n",
    "                    break\n",
    "                else: \n",
    "                    j += 1\n",
    "\n",
    "        return a\n",
    "    \n",
    "    def __lshift__(self, y):\n",
    "        return y >> self"
   ]
  },
  {
   "cell_type": "markdown",
   "id": "cd339fbc",
   "metadata": {},
   "source": [
    "You can play around with this class a bit. Notice the difference in the results when performing addition versus a right shift."
   ]
  },
  {
   "cell_type": "code",
   "execution_count": 2,
   "id": "5bd94fa1",
   "metadata": {},
   "outputs": [
    {
     "name": "stdout",
     "output_type": "stream",
     "text": [
      "rx_clm1: 01/01/2022: [1. 1. 1. 1. 1. 1. 1. 1. 1. 1.]\n",
      "rx_clm2: 01/07/2022: [1. 1. 1. 1. 1. 1. 1. 1. 1. 1.]\n",
      "rx_clm1 + rx_clm2: 01/01/2022: [1. 1. 1. 1. 1. 1. 2. 2. 2. 2. 1. 1. 1. 1. 1. 1.]\n",
      "rx_clm1 >> rx_clm2: 01/01/2022: [1. 1. 1. 1. 1. 1. 1. 1. 1. 1. 1. 1. 1. 1. 1. 1. 1. 1. 1. 1.]\n"
     ]
    }
   ],
   "source": [
    "rx_clm1 = DateIndexedArray(dt.datetime(2022, 1, 1, 0, 0), 10)\n",
    "print(\"rx_clm1: \" + str(rx_clm1))\n",
    "rx_clm2 = DateIndexedArray(dt.datetime(2022, 1, 7, 0, 0), 10)\n",
    "print(\"rx_clm2: \" + str(rx_clm2))\n",
    "print(\"rx_clm1 + rx_clm2: \" + str(rx_clm1 + rx_clm2))\n",
    "print(\"rx_clm1 >> rx_clm2: \" + str(rx_clm1 >> rx_clm2))"
   ]
  },
  {
   "cell_type": "markdown",
   "id": "70263930",
   "metadata": {},
   "source": [
    "I wanted to keep the DateIndexedArray class general-purpose so created some functions that are specific to calculating PDC. These functions allow me to things like identify the treatment period and calculate the days in the treatment period as well as PDC."
   ]
  },
  {
   "cell_type": "code",
   "execution_count": 3,
   "id": "bba1928d",
   "metadata": {},
   "outputs": [],
   "source": [
    "def get_days_covered(arr, same_drug=True):\n",
    "    if same_drug:\n",
    "        return reduce(lambda x, y: x >> y, arr.copy())\n",
    "    else:\n",
    "        return reduce(lambda x, y: x + y, arr.copy())\n",
    "\n",
    "def get_tx_period(arr, start, end):\n",
    "    return arr.trim(start, end)\n",
    "\n",
    "def get_tot_days_in_tx_period(arr):\n",
    "    return arr.array.size\n",
    "\n",
    "def get_tot_days_covered(arr, min_drugs):\n",
    "    return np.count_nonzero(arr.array >= min_drugs)"
   ]
  },
  {
   "cell_type": "markdown",
   "id": "43278f40",
   "metadata": {},
   "source": [
    "Let's take a look at all of this in action. First, we need to create some sample prescription claims data."
   ]
  },
  {
   "cell_type": "code",
   "execution_count": 4,
   "id": "ecdd982c",
   "metadata": {},
   "outputs": [],
   "source": [
    "rx_clms = [\n",
    "    {'pt_id': 'SAMEDRUG', 'drug_name': 'LISINOPRIL 10 MG TABS', 'drug': 'LISINOPRIL', 'date_of_service': '2021-01-01', 'days_sup': 90},\n",
    "    {'pt_id': 'SAMEDRUG', 'drug_name': 'LISINOPRIL 10 MG TABS', 'drug': 'LISINOPRIL', 'date_of_service': '2022-01-01', 'days_sup': 90},\n",
    "    {'pt_id': 'SAMEDRUG', 'drug_name': 'LISINOPRIL 10 MG TABS', 'drug': 'LISINOPRIL', 'date_of_service': '2022-03-25', 'days_sup': 90},\n",
    "    {'pt_id': 'SAMEDRUG', 'drug_name': 'LISINOPRIL 10 MG TABS', 'drug': 'LISINOPRIL', 'date_of_service': '2022-07-05', 'days_sup': 90},\n",
    "    {'pt_id': 'SAMEDRUG', 'drug_name': 'LISINOPRIL 10 MG TABS', 'drug': 'LISINOPRIL', 'date_of_service': '2022-09-25', 'days_sup': 90},\n",
    "    {'pt_id': 'DIFFDRUG', 'drug_name': 'LISINOPRIL 10 MG TABS', 'drug': 'LISINOPRIL', 'date_of_service': '2022-01-01', 'days_sup': 90},\n",
    "    {'pt_id': 'DIFFDRUG', 'drug_name': 'LOSARTAN 25 MG TABS', 'drug': 'LOSARTAN', 'date_of_service': '2022-03-25', 'days_sup': 90},\n",
    "    {'pt_id': 'DIFFDRUG', 'drug_name': 'LOSARTAN 25 TABS', 'drug': 'LOSARTAN', 'date_of_service': '2022-07-05', 'days_sup': 90},\n",
    "    {'pt_id': 'DIFFDRUG', 'drug_name': 'LOSARTAN 25 MG TABS', 'drug': 'LOSARTAN', 'date_of_service': '2022-09-25', 'days_sup': 90},\n",
    "    {'pt_id': 'NONADH', 'drug_name': 'LISINOPRIL 10 MG TABS', 'drug': 'LISINOPRIL', 'date_of_service': '2022-01-01', 'days_sup': 90},\n",
    "    {'pt_id': 'NONADH', 'drug_name': 'LISINOPRIL 10 MG TABS', 'drug': 'LISINOPRIL', 'date_of_service': '2022-03-25', 'days_sup': 90},\n",
    "    {'pt_id': 'NONADH', 'drug_name': 'LISINOPRIL 10 MG TABS', 'drug': 'LISINOPRIL', 'date_of_service': '2022-09-25', 'days_sup': 90},\n",
    "    {'pt_id': 'COMBPROD', 'drug_name': 'LISINOPRIL 10 MG TABS', 'drug': 'LISINOPRIL', 'date_of_service': '2022-01-01', 'days_sup': 90},\n",
    "    {'pt_id': 'COMBPROD', 'drug_name': 'LISINOPRIL 10 MG / HYDROCHLOROTHIAZIDE 12.5 MG TABS', 'drug': 'LISINOPRIL', 'date_of_service': '2022-03-25', 'days_sup': 90},\n",
    "    {'pt_id': 'COMBPROD', 'drug_name': 'LISINOPRIL 10 MG / HYDROCHLOROTHIAZIDE 12.5 MG TABS', 'drug': 'LISINOPRIL', 'date_of_service': '2022-07-05', 'days_sup': 90},\n",
    "    {'pt_id': 'COMBPROD', 'drug_name': 'LISINOPRIL 10 MG / HYDROCHLOROTHIAZIDE 12.5 MG TABS', 'drug': 'LISINOPRIL', 'date_of_service': '2022-09-25', 'days_sup': 90},\n",
    "    {'pt_id': 'CONCUSE', 'drug_name': 'LISINOPRIL 10 MG TABS', 'drug': 'LISINOPRIL', 'date_of_service': '2022-01-02', 'days_sup': 90},\n",
    "    {'pt_id': 'CONCUSE', 'drug_name': 'LISINOPRIL 10 MG TABS', 'drug': 'LISINOPRIL', 'date_of_service': '2022-03-25', 'days_sup': 90},\n",
    "    {'pt_id': 'CONCUSE', 'drug_name': 'LOSARTAN 25 MG TABS', 'drug': 'LOSARTAN', 'date_of_service': '2022-03-25', 'days_sup': 90},\n",
    "    {'pt_id': 'CONCUSE', 'drug_name': 'LOSARTAN 25 MG TABS', 'drug': 'LOSARTAN', 'date_of_service': '2022-07-05', 'days_sup': 90},\n",
    "    {'pt_id': 'CONCUSE', 'drug_name': 'LOSARTAN 25 MG TABS', 'drug': 'LOSARTAN', 'date_of_service': '2022-09-25', 'days_sup': 90}\n",
    "]"
   ]
  },
  {
   "cell_type": "markdown",
   "id": "e889f30a",
   "metadata": {},
   "source": [
    "We need to convert the dates of service to dates."
   ]
  },
  {
   "cell_type": "code",
   "execution_count": 5,
   "id": "f87024e0",
   "metadata": {},
   "outputs": [],
   "source": [
    "for item in rx_clms:\n",
    "    item['date_of_service'] = dt.datetime.fromisoformat(item['date_of_service'])"
   ]
  },
  {
   "cell_type": "markdown",
   "id": "c8f813b8",
   "metadata": {},
   "source": [
    "We then import the sample data into a dataframe and create a column for the DateIndexedArray. The DateIndexedArray is initialized with the date of service and days supply."
   ]
  },
  {
   "cell_type": "code",
   "execution_count": 6,
   "id": "ad890a42",
   "metadata": {},
   "outputs": [],
   "source": [
    "import pandas as pd\n",
    "\n",
    "df = pd.DataFrame(rx_clms)\n",
    "df['days_covered'] = df.apply(lambda x: DateIndexedArray(x['date_of_service'], x['days_sup']), 1)"
   ]
  },
  {
   "cell_type": "markdown",
   "id": "e72608ab",
   "metadata": {},
   "source": [
    "Next, we calculate the days covered. First, we group by the patient and drug and identify the days covered after adjusting for the overlapping days supply. Then, we regroup by patient and identify the days covered across all drugs (without adjusting for overlap)."
   ]
  },
  {
   "cell_type": "code",
   "execution_count": 7,
   "id": "d9a548a1",
   "metadata": {},
   "outputs": [],
   "source": [
    "df = df \\\n",
    "    .groupby(['pt_id','drug'])['days_covered'] \\\n",
    "    .apply(get_days_covered, True) \\\n",
    "    .reset_index() \\\n",
    "    .groupby('pt_id')['days_covered'] \\\n",
    "    .apply(get_days_covered, False) \\\n",
    "    .reset_index()"
   ]
  },
  {
   "cell_type": "markdown",
   "id": "98b5a264",
   "metadata": {},
   "source": [
    "Now, we can calculate identify the days covered within the treatment period (based upon the start and end of the measurement year)."
   ]
  },
  {
   "cell_type": "code",
   "execution_count": 8,
   "id": "e0b2f897",
   "metadata": {},
   "outputs": [],
   "source": [
    "df['tx_period'] = df['days_covered'] \\\n",
    "    .apply(get_tx_period, args=(dt.datetime(2022, 1, 1, 0, 0),dt.datetime(2022, 12, 31, 0, 0)))"
   ]
  },
  {
   "cell_type": "markdown",
   "id": "bd20b0f0",
   "metadata": {},
   "source": [
    "From there, we calculate the count of days in the treatment period."
   ]
  },
  {
   "cell_type": "code",
   "execution_count": 9,
   "id": "b438aa56",
   "metadata": {},
   "outputs": [],
   "source": [
    "df['tot_days_in_tx_period'] = df['tx_period'] \\\n",
    "    .apply(get_tot_days_in_tx_period)"
   ]
  },
  {
   "cell_type": "markdown",
   "id": "5c4975e0",
   "metadata": {},
   "source": [
    "We can also calculate the count of days covered in the treatment period."
   ]
  },
  {
   "cell_type": "code",
   "execution_count": 10,
   "id": "9253af83",
   "metadata": {},
   "outputs": [],
   "source": [
    "df['tot_days_covered'] = df['tx_period'] \\\n",
    "    .apply(get_tot_days_covered, args=(1,))"
   ]
  },
  {
   "cell_type": "markdown",
   "id": "52be3049",
   "metadata": {},
   "source": [
    "Lastly, we can calculate the PDC by dividing the days covered by the days in the treatment period."
   ]
  },
  {
   "cell_type": "code",
   "execution_count": 11,
   "id": "216009dd",
   "metadata": {},
   "outputs": [],
   "source": [
    "df['pdc'] = df['tot_days_covered']/df['tot_days_in_tx_period']"
   ]
  },
  {
   "cell_type": "markdown",
   "id": "cee96b75",
   "metadata": {},
   "source": [
    "We did it! Take a peak at the fruits of our labor."
   ]
  },
  {
   "cell_type": "code",
   "execution_count": 12,
   "id": "b2cfa6e8",
   "metadata": {},
   "outputs": [
    {
     "data": {
      "text/html": [
       "<div>\n",
       "<style scoped>\n",
       "    .dataframe tbody tr th:only-of-type {\n",
       "        vertical-align: middle;\n",
       "    }\n",
       "\n",
       "    .dataframe tbody tr th {\n",
       "        vertical-align: top;\n",
       "    }\n",
       "\n",
       "    .dataframe thead th {\n",
       "        text-align: right;\n",
       "    }\n",
       "</style>\n",
       "<table border=\"1\" class=\"dataframe\">\n",
       "  <thead>\n",
       "    <tr style=\"text-align: right;\">\n",
       "      <th></th>\n",
       "      <th>pt_id</th>\n",
       "      <th>days_covered</th>\n",
       "      <th>tx_period</th>\n",
       "      <th>tot_days_in_tx_period</th>\n",
       "      <th>tot_days_covered</th>\n",
       "      <th>pdc</th>\n",
       "    </tr>\n",
       "  </thead>\n",
       "  <tbody>\n",
       "    <tr>\n",
       "      <th>0</th>\n",
       "      <td>COMBPROD</td>\n",
       "      <td>01/01/2022: [1. 1. 1. 1. 1. 1. 1. 1. 1. 1. 1. ...</td>\n",
       "      <td>01/01/2022: [1. 1. 1. 1. 1. 1. 1. 1. 1. 1. 1. ...</td>\n",
       "      <td>365</td>\n",
       "      <td>360</td>\n",
       "      <td>0.986301</td>\n",
       "    </tr>\n",
       "    <tr>\n",
       "      <th>1</th>\n",
       "      <td>CONCUSE</td>\n",
       "      <td>01/02/2022: [1. 1. 1. 1. 1. 1. 1. 1. 1. 1. 1. ...</td>\n",
       "      <td>01/02/2022: [1. 1. 1. 1. 1. 1. 1. 1. 1. 1. 1. ...</td>\n",
       "      <td>364</td>\n",
       "      <td>360</td>\n",
       "      <td>0.989011</td>\n",
       "    </tr>\n",
       "    <tr>\n",
       "      <th>2</th>\n",
       "      <td>DIFFDRUG</td>\n",
       "      <td>01/01/2022: [1. 1. 1. 1. 1. 1. 1. 1. 1. 1. 1. ...</td>\n",
       "      <td>01/01/2022: [1. 1. 1. 1. 1. 1. 1. 1. 1. 1. 1. ...</td>\n",
       "      <td>365</td>\n",
       "      <td>353</td>\n",
       "      <td>0.967123</td>\n",
       "    </tr>\n",
       "    <tr>\n",
       "      <th>3</th>\n",
       "      <td>NONADH</td>\n",
       "      <td>01/01/2022: [1. 1. 1. 1. 1. 1. 1. 1. 1. 1. 1. ...</td>\n",
       "      <td>01/01/2022: [1. 1. 1. 1. 1. 1. 1. 1. 1. 1. 1. ...</td>\n",
       "      <td>365</td>\n",
       "      <td>270</td>\n",
       "      <td>0.739726</td>\n",
       "    </tr>\n",
       "    <tr>\n",
       "      <th>4</th>\n",
       "      <td>SAMEDRUG</td>\n",
       "      <td>01/01/2022: [1. 1. 1. 1. 1. 1. 1. 1. 1. 1. 1. ...</td>\n",
       "      <td>01/01/2022: [1. 1. 1. 1. 1. 1. 1. 1. 1. 1. 1. ...</td>\n",
       "      <td>365</td>\n",
       "      <td>360</td>\n",
       "      <td>0.986301</td>\n",
       "    </tr>\n",
       "  </tbody>\n",
       "</table>\n",
       "</div>"
      ],
      "text/plain": [
       "      pt_id                                       days_covered  \\\n",
       "0  COMBPROD  01/01/2022: [1. 1. 1. 1. 1. 1. 1. 1. 1. 1. 1. ...   \n",
       "1   CONCUSE  01/02/2022: [1. 1. 1. 1. 1. 1. 1. 1. 1. 1. 1. ...   \n",
       "2  DIFFDRUG  01/01/2022: [1. 1. 1. 1. 1. 1. 1. 1. 1. 1. 1. ...   \n",
       "3    NONADH  01/01/2022: [1. 1. 1. 1. 1. 1. 1. 1. 1. 1. 1. ...   \n",
       "4  SAMEDRUG  01/01/2022: [1. 1. 1. 1. 1. 1. 1. 1. 1. 1. 1. ...   \n",
       "\n",
       "                                           tx_period  tot_days_in_tx_period  \\\n",
       "0  01/01/2022: [1. 1. 1. 1. 1. 1. 1. 1. 1. 1. 1. ...                    365   \n",
       "1  01/02/2022: [1. 1. 1. 1. 1. 1. 1. 1. 1. 1. 1. ...                    364   \n",
       "2  01/01/2022: [1. 1. 1. 1. 1. 1. 1. 1. 1. 1. 1. ...                    365   \n",
       "3  01/01/2022: [1. 1. 1. 1. 1. 1. 1. 1. 1. 1. 1. ...                    365   \n",
       "4  01/01/2022: [1. 1. 1. 1. 1. 1. 1. 1. 1. 1. 1. ...                    365   \n",
       "\n",
       "   tot_days_covered       pdc  \n",
       "0               360  0.986301  \n",
       "1               360  0.989011  \n",
       "2               353  0.967123  \n",
       "3               270  0.739726  \n",
       "4               360  0.986301  "
      ]
     },
     "execution_count": 12,
     "metadata": {},
     "output_type": "execute_result"
    }
   ],
   "source": [
    "df"
   ]
  },
  {
   "cell_type": "markdown",
   "id": "7afaea41",
   "metadata": {},
   "source": [
    "<script>\n",
    "window.addEventListener('load', function() {\n",
    "\tlet message = { height: document.body.scrollHeight, width: document.body.scrollWidth };\t\n",
    "\n",
    "\t// window.top refers to parent window\n",
    "\twindow.top.postMessage(message, \"*\");\n",
    "});\n",
    "</script>"
   ]
  }
 ],
 "metadata": {
  "kernelspec": {
   "display_name": "Python 3 (ipykernel)",
   "language": "python",
   "name": "python3"
  },
  "language_info": {
   "codemirror_mode": {
    "name": "ipython",
    "version": 3
   },
   "file_extension": ".py",
   "mimetype": "text/x-python",
   "name": "python",
   "nbconvert_exporter": "python",
   "pygments_lexer": "ipython3",
   "version": "3.9.7"
  }
 },
 "nbformat": 4,
 "nbformat_minor": 5
}
